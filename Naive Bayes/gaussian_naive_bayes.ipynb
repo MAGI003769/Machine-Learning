{
 "cells": [
  {
   "cell_type": "code",
   "execution_count": 1,
   "metadata": {
    "collapsed": true
   },
   "outputs": [],
   "source": [
    "import numpy as np\n",
    "import matplotlib.pyplot as plt\n",
    "from sklearn import datasets\n",
    "from sklearn.metrics import confusion_matrix\n",
    "\n",
    "%matplotlib inline"
   ]
  },
  {
   "cell_type": "code",
   "execution_count": 2,
   "metadata": {
    "collapsed": true
   },
   "outputs": [],
   "source": [
    "def plot_confusion(y_true, pred):\n",
    "    labels = [0, 1, 2]\n",
    "    cm = confusion_matrix(y_true, pred, labels)\n",
    "    fig = plt.figure()\n",
    "    ax = fig.add_subplot(111)\n",
    "    mat = ax.matshow(cm)\n",
    "    fig.colorbar(mat)\n",
    "    ax.set_xticklabels([''] + labels)\n",
    "    ax.set_yticklabels([''] + labels)\n",
    "    plt.xlabel('Predicted')\n",
    "    plt.ylabel('True')\n",
    "    plt.show()"
   ]
  },
  {
   "cell_type": "code",
   "execution_count": 3,
   "metadata": {},
   "outputs": [],
   "source": [
    "# Load iris dataset from sklearn\n",
    "iris = datasets.load_iris()\n",
    "\n",
    "# Suffle the data\n",
    "np.random.seed(0)\n",
    "np.random.shuffle(iris.data)\n",
    "np.random.seed(0)\n",
    "np.random.shuffle(iris.target)\n",
    "\n",
    "# Split training set\n",
    "X_train = iris.data[:120, :]\n",
    "y_train = iris.target[:120]\n",
    "\n",
    "# Splot test set\n",
    "X_test = iris.data[-30:, :]\n",
    "y_test = iris.target[-30:]"
   ]
  },
  {
   "cell_type": "code",
   "execution_count": 4,
   "metadata": {
    "collapsed": true
   },
   "outputs": [],
   "source": [
    "class GaussianNB(object):\n",
    "    \n",
    "    def __init__(self, num_class):\n",
    "        self.num_class = num_class\n",
    "        self.class_prior = []\n",
    "        self.mean = []\n",
    "        self.var = []\n",
    "        \n",
    "    def __get_class_prior(self, y):\n",
    "        ''' method to obtain class prior P(Y=ck) '''\n",
    "        sample_num = float(len(y))\n",
    "        for label in range(self.num_class):\n",
    "            c_count = np.sum(y == label)\n",
    "            self.class_prior.append(c_count / sample_num)\n",
    "    \n",
    "    def __get_mean_var(self, X, y):\n",
    "        ''' method to get mean and variance for each feature'''\n",
    "        num_features = X.shape[1]\n",
    "        for c in range(self.num_class):\n",
    "            class_mean = []\n",
    "            class_var = []\n",
    "            class_samples = X[y == c]\n",
    "            for i in range(num_features):\n",
    "                mean = np.mean(class_samples[:, i])\n",
    "                var = np.var(class_samples[:, i])\n",
    "                class_mean.append(mean)\n",
    "                class_var.append(var)\n",
    "            self.mean.append(class_mean)\n",
    "            self.var.append(class_var)\n",
    "    \n",
    "    def fit(self, X, y):\n",
    "        ''' method to fit the naive bayes model '''\n",
    "        self.__get_class_prior(y)\n",
    "        self.__get_mean_var(X, y)\n",
    "        \n",
    "    \n",
    "    def __cal_gaussian_prob(self, xi, mean, var):\n",
    "        ''' metod to calculate likelihood '''\n",
    "        inside = (xi - mean) ** 2 / (2 * var)\n",
    "        numeric = np.sqrt(2 * np.pi * var)\n",
    "        return np.exp(-inside) / numeric\n",
    "    \n",
    "    def __predict_one(self, x):\n",
    "        class_probs = np.zeros(self.num_class)\n",
    "        for label in range(self.num_class):\n",
    "            class_prior = self.class_prior[label]\n",
    "            likelihood = 1.0\n",
    "            for i in range(len(x)):\n",
    "                likelihood *= self.__cal_gaussian_prob(x[i], self.mean[label][i], self.var[label][i])\n",
    "            prob = likelihood * class_prior\n",
    "            class_probs[label] = prob\n",
    "        return np.argmax(class_probs)\n",
    "    \n",
    "    def predict(self, X):\n",
    "        if X.shape[0] == 1:\n",
    "            return self.__predict_one(X)\n",
    "        else:\n",
    "            predict = np.zeros(X.shape[0], dtype=np.int)\n",
    "            for i in range(X.shape[0]):\n",
    "                predict[i] = self.__predict_one(X[i])\n",
    "            return predict"
   ]
  },
  {
   "cell_type": "code",
   "execution_count": 5,
   "metadata": {},
   "outputs": [
    {
     "data": {
      "image/png": "[encoded data removed]",
      "text/plain": [
       "<Figure size 432x288 with 2 Axes>"
      ]
     },
     "metadata": {},
     "output_type": "display_data"
    }
   ],
   "source": [
    "model = GaussianNB(max(y_train)+1)\n",
    "model.fit(X_train, y_train)\n",
    "result = model.predict(X_test)\n",
    "plot_confusion(y_test, result)"
   ]
  },
  {
   "cell_type": "code",
   "execution_count": null,
   "metadata": {
    "collapsed": true
   },
   "outputs": [],
   "source": []
  }
 ],
 "metadata": {
  "kernelspec": {
   "display_name": "Python 3",
   "language": "python",
   "name": "python3"
  },
  "language_info": {
   "codemirror_mode": {
    "name": "ipython",
    "version": 3
   },
   "file_extension": ".py",
   "mimetype": "text/x-python",
   "name": "python",
   "nbconvert_exporter": "python",
   "pygments_lexer": "ipython3",
   "version": "3.5.3"
  }
 },
 "nbformat": 4,
 "nbformat_minor": 2
}
