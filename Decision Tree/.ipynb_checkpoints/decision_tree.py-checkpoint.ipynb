{
 "cells": [
  {
   "cell_type": "code",
   "execution_count": 1,
   "metadata": {
    "collapsed": true
   },
   "outputs": [],
   "source": [
    "import numpy as np\n",
    "import matplotlib.pyplot as plt\n",
    "from sklearn import datasets\n",
    "\n",
    "%matplotlib inline"
   ]
  },
  {
   "cell_type": "code",
   "execution_count": 43,
   "metadata": {
    "scrolled": false
   },
   "outputs": [],
   "source": [
    "# Load dataset of Iris\n",
    "iris = datasets.load_iris()\n",
    "\n",
    "X = iris.data\n",
    "y = np.expand_dims(iris.target, axis=1)\n",
    "samples = np.concatenate((X, y), axis=1)\n",
    "#samples = np.c_[X, y]\n",
    "\n",
    "trian_data = samples[:-15]\n",
    "test_data = samples[-15:]\n",
    "\n",
    "header = iris.feature_names"
   ]
  },
  {
   "cell_type": "code",
   "execution_count": 13,
   "metadata": {
    "collapsed": true
   },
   "outputs": [],
   "source": [
    "class Question(object):\n",
    "    \n",
    "    def __init__(self, column, value):\n",
    "        self.column = column\n",
    "        self.value = value\n",
    "    \n",
    "    def match(self, sample):\n",
    "        val = sample[self.column]\n",
    "        return val >= self.value\n",
    "    \n",
    "    def __repr__(self):\n",
    "        condition = \">=\"\n",
    "        return \"Is %s %s %s?\"%(header[self.column], condition, str(self.value))"
   ]
  },
  {
   "cell_type": "code",
   "execution_count": 16,
   "metadata": {},
   "outputs": [
    {
     "data": {
      "text/plain": [
       "True"
      ]
     },
     "execution_count": 16,
     "metadata": {},
     "output_type": "execute_result"
    }
   ],
   "source": [
    "q = Question(0, 5.0)\n",
    "q.match(X_train[0])"
   ]
  },
  {
   "cell_type": "code",
   "execution_count": 18,
   "metadata": {
    "collapsed": true
   },
   "outputs": [],
   "source": [
    "def partition(samples, question):\n",
    "    true_part, false_part = [], []\n",
    "    for one in samples:\n",
    "        if question.match(one):\n",
    "            true_part.append(one)\n",
    "        else:\n",
    "            false_part.append(one)\n",
    "    return true_part, false_part"
   ]
  },
  {
   "cell_type": "code",
   "execution_count": 45,
   "metadata": {
    "collapsed": true
   },
   "outputs": [],
   "source": [
    "def class_counts(data):\n",
    "    counts = {}\n",
    "    for one in data[:, -1]:\n",
    "        try:\n",
    "            counts[one] += 1\n",
    "        except KeyError:\n",
    "            counts[one] = 1\n",
    "    return counts\n",
    "\n",
    "def gini(data):\n",
    "    counts = class_counts(data)\n",
    "    size = len(data)\n",
    "    impurity = 1\n",
    "    for key in counts:\n",
    "        prob = counts[key] / float(size)\n",
    "        impurity -= prob ** 2\n",
    "    return impurity\n",
    "\n",
    "def entropy(data):\n",
    "    entropy = 0\n",
    "    size = len(data)\n",
    "    count = class_counts(data)\n",
    "    for label in count:\n",
    "        p = count[label] / float(size)\n",
    "        entropy -= p * np.log2(p)\n",
    "    return entropy"
   ]
  },
  {
   "cell_type": "code",
   "execution_count": null,
   "metadata": {
    "collapsed": true
   },
   "outputs": [],
   "source": []
  }
 ],
 "metadata": {
  "kernelspec": {
   "display_name": "Python 3",
   "language": "python",
   "name": "python3"
  },
  "language_info": {
   "codemirror_mode": {
    "name": "ipython",
    "version": 3
   },
   "file_extension": ".py",
   "mimetype": "text/x-python",
   "name": "python",
   "nbconvert_exporter": "python",
   "pygments_lexer": "ipython3",
   "version": "3.5.3"
  }
 },
 "nbformat": 4,
 "nbformat_minor": 2
}
