{
 "cells": [
  {
   "cell_type": "code",
   "execution_count": 1,
   "metadata": {
    "collapsed": true
   },
   "outputs": [],
   "source": [
    "import numpy as np\n",
    "import matplotlib.pyplot as plt\n",
    "from sklearn import datasets\n",
    "\n",
    "%matplotlib inline"
   ]
  },
  {
   "cell_type": "code",
   "execution_count": 2,
   "metadata": {
    "scrolled": false
   },
   "outputs": [
    {
     "name": "stdout",
     "output_type": "stream",
     "text": [
      "(135, 5)\n"
     ]
    }
   ],
   "source": [
    "# Load dataset of Iris\n",
    "iris = datasets.load_iris()\n",
    "\n",
    "X = iris.data\n",
    "y = np.expand_dims(iris.target, axis=1)\n",
    "samples = np.concatenate((X, y), axis=1)\n",
    "np.random.shuffle(samples)\n",
    "#samples = np.c_[X, y]\n",
    "\n",
    "train_data = samples[:-15]\n",
    "print(train_data.shape)\n",
    "test_data = samples[-15:]\n",
    "\n",
    "header = iris.feature_names"
   ]
  },
  {
   "cell_type": "code",
   "execution_count": 3,
   "metadata": {
    "collapsed": true
   },
   "outputs": [],
   "source": [
    "class Question(object):\n",
    "    \n",
    "    def __init__(self, column, value):\n",
    "        self.column = column\n",
    "        self.value = value\n",
    "    \n",
    "    def match(self, sample):\n",
    "        val = sample[self.column]\n",
    "        return val >= self.value\n",
    "    \n",
    "    def __repr__(self):\n",
    "        condition = \">=\"\n",
    "        return \"Is %s %s %s?\"%(header[self.column], condition, str(self.value))"
   ]
  },
  {
   "cell_type": "code",
   "execution_count": 4,
   "metadata": {
    "collapsed": true
   },
   "outputs": [],
   "source": [
    "def partition(samples, question):\n",
    "    true_part, false_part = [], []\n",
    "    for one in samples:\n",
    "        if question.match(one):\n",
    "            true_part.append(one)\n",
    "        else:\n",
    "            false_part.append(one)\n",
    "    return np.array(true_part), np.array(false_part)"
   ]
  },
  {
   "cell_type": "code",
   "execution_count": 5,
   "metadata": {
    "collapsed": true
   },
   "outputs": [],
   "source": [
    "def class_counts(data):\n",
    "    counts = {}\n",
    "    for one in data[:, -1]:\n",
    "        try:\n",
    "            counts[one] += 1\n",
    "        except KeyError:\n",
    "            counts[one] = 1\n",
    "    return counts\n",
    "\n",
    "def gini(data):\n",
    "    counts = class_counts(data)\n",
    "    size = len(data)\n",
    "    impurity = 1\n",
    "    for key in counts:\n",
    "        prob = counts[key] / float(size)\n",
    "        impurity -= prob ** 2\n",
    "    return impurity\n",
    "\n",
    "def entropy(data):\n",
    "    entropy = 0\n",
    "    size = len(data)\n",
    "    count = class_counts(data)\n",
    "    for label in count:\n",
    "        p = count[label] / float(size)\n",
    "        entropy -= p * np.log2(p)\n",
    "    return entropy\n",
    "\n",
    "def info_gain(left, right, current):\n",
    "    p = float(len(left)) / (len(left) + len(right))\n",
    "    return current - p * gini(left) - (1-p) * gini(right)\n",
    "    "
   ]
  },
  {
   "cell_type": "code",
   "execution_count": 6,
   "metadata": {
    "collapsed": true
   },
   "outputs": [],
   "source": [
    "def find_best_split(data):\n",
    "    best_gain = 0\n",
    "    best_question = None\n",
    "    # get gini index before split\n",
    "    current = gini(data)\n",
    "    for col in range(len(data[0]) - 1):\n",
    "        values = set(data[:, col])\n",
    "        for val in values:\n",
    "            question = Question(col, val)\n",
    "            true_part, false_part = partition(data, question)\n",
    "            # No split, just ahead to next question iteration\n",
    "            if len(true_part) == 0 or len(false_part) == 0:\n",
    "                continue\n",
    "            gain = info_gain(true_part, false_part, current)\n",
    "            if gain >= best_gain:\n",
    "                best_gain, best_question = gain, question\n",
    "    # print(best_gain, best_question)\n",
    "    return best_gain, best_question"
   ]
  },
  {
   "cell_type": "code",
   "execution_count": 7,
   "metadata": {
    "collapsed": true,
    "scrolled": false
   },
   "outputs": [],
   "source": [
    "gain, question = find_best_split(train_data[:])"
   ]
  },
  {
   "cell_type": "code",
   "execution_count": 8,
   "metadata": {
    "collapsed": true
   },
   "outputs": [],
   "source": [
    "class DecisionNode(object):\n",
    "    def __init__(self, question, true_branch, false_branch):\n",
    "        self.question = question\n",
    "        self.true_branch = true_branch\n",
    "        self.false_branch = false_branch\n",
    "\n",
    "class Leaf(object):\n",
    "    def __init__(self, samples):\n",
    "        self.predictions = class_counts(samples)\n",
    "    \n",
    "    def predict_prob(self):\n",
    "        \"\"\"A nicer way to print the predictions at a leaf.\"\"\"\n",
    "        total = sum(self.predictions.values()) * 1.0\n",
    "        probs = {}\n",
    "        for lbl in self.predictions.keys():\n",
    "            probs[lbl] = str(int(self.predictions[lbl] / total * 100)) + \"%\"\n",
    "        return probs"
   ]
  },
  {
   "cell_type": "code",
   "execution_count": 9,
   "metadata": {
    "collapsed": true
   },
   "outputs": [],
   "source": [
    "def build_tree(samples):\n",
    "    gain, question = find_best_split(samples)\n",
    "    if gain == 0:\n",
    "        return Leaf(samples)\n",
    "    true_samples, false_samples = partition(samples, question)\n",
    "    true_branch = build_tree(true_samples)\n",
    "    false_branch = build_tree(false_samples)\n",
    "    return DecisionNode(question, true_branch, false_branch)\n",
    "\n",
    "def print_tree(node, spacing=\"\"):\n",
    "    if isinstance(node, Leaf):\n",
    "        print(spacing + \"Predict\", node.predictions)\n",
    "        return\n",
    "    print(spacing + str(node.question))\n",
    "    \n",
    "    print(spacing + '--> True:')\n",
    "    print_tree(node.true_branch, spacing + \"  \")\n",
    "    \n",
    "    print(spacing + '--> False:')\n",
    "    print_tree(node.false_branch, spacing + \"  \")"
   ]
  },
  {
   "cell_type": "code",
   "execution_count": 10,
   "metadata": {
    "collapsed": true,
    "scrolled": false
   },
   "outputs": [],
   "source": [
    "my_tree = build_tree(train_data)"
   ]
  },
  {
   "cell_type": "code",
   "execution_count": 11,
   "metadata": {},
   "outputs": [
    {
     "name": "stdout",
     "output_type": "stream",
     "text": [
      "Is petal width (cm) >= 1.0?\n",
      "--> True:\n",
      "  Is petal width (cm) >= 1.8?\n",
      "  --> True:\n",
      "    Is petal length (cm) >= 4.9?\n",
      "    --> True:\n",
      "      Predict {2.0: 39}\n",
      "    --> False:\n",
      "      Is sepal width (cm) >= 3.2?\n",
      "      --> True:\n",
      "        Predict {1.0: 1}\n",
      "      --> False:\n",
      "        Predict {2.0: 2}\n",
      "  --> False:\n",
      "    Is petal length (cm) >= 5.1?\n",
      "    --> True:\n",
      "      Is sepal width (cm) >= 2.8?\n",
      "      --> True:\n",
      "        Predict {2.0: 2}\n",
      "      --> False:\n",
      "        Predict {1.0: 1}\n",
      "    --> False:\n",
      "      Is sepal length (cm) >= 5.0?\n",
      "      --> True:\n",
      "        Predict {1.0: 41}\n",
      "      --> False:\n",
      "        Is petal width (cm) >= 1.7?\n",
      "        --> True:\n",
      "          Predict {2.0: 1}\n",
      "        --> False:\n",
      "          Predict {1.0: 1}\n",
      "--> False:\n",
      "  Predict {0.0: 47}\n"
     ]
    }
   ],
   "source": [
    "print_tree(my_tree)"
   ]
  },
  {
   "cell_type": "code",
   "execution_count": 12,
   "metadata": {
    "collapsed": true
   },
   "outputs": [],
   "source": [
    "def classify(sample, node):\n",
    "    if isinstance(node, Leaf):\n",
    "        return node.predict_prob()\n",
    "    if node.question.match(sample):\n",
    "        return classify(sample, node.true_branch)\n",
    "    else:\n",
    "        return classify(sample, node.false_branch)"
   ]
  },
  {
   "cell_type": "code",
   "execution_count": 13,
   "metadata": {},
   "outputs": [
    {
     "name": "stdout",
     "output_type": "stream",
     "text": [
      "Ground Truth: 0.0. Prediction: {0.0: '100%'}\n",
      "Ground Truth: 1.0. Prediction: {1.0: '100%'}\n",
      "Ground Truth: 2.0. Prediction: {1.0: '100%'}\n",
      "Ground Truth: 0.0. Prediction: {0.0: '100%'}\n",
      "Ground Truth: 1.0. Prediction: {1.0: '100%'}\n",
      "Ground Truth: 2.0. Prediction: {2.0: '100%'}\n",
      "Ground Truth: 2.0. Prediction: {1.0: '100%'}\n",
      "Ground Truth: 1.0. Prediction: {1.0: '100%'}\n",
      "Ground Truth: 1.0. Prediction: {1.0: '100%'}\n",
      "Ground Truth: 2.0. Prediction: {2.0: '100%'}\n",
      "Ground Truth: 2.0. Prediction: {2.0: '100%'}\n",
      "Ground Truth: 2.0. Prediction: {2.0: '100%'}\n",
      "Ground Truth: 0.0. Prediction: {0.0: '100%'}\n",
      "Ground Truth: 1.0. Prediction: {1.0: '100%'}\n",
      "Ground Truth: 1.0. Prediction: {1.0: '100%'}\n"
     ]
    }
   ],
   "source": [
    "for sample in test_data:\n",
    "    print(\"Ground Truth: {}. Prediction: {}\".format(sample[-1], classify(sample, my_tree)))"
   ]
  }
 ],
 "metadata": {
  "kernelspec": {
   "display_name": "Python 3",
   "language": "python",
   "name": "python3"
  },
  "language_info": {
   "codemirror_mode": {
    "name": "ipython",
    "version": 3
   },
   "file_extension": ".py",
   "mimetype": "text/x-python",
   "name": "python",
   "nbconvert_exporter": "python",
   "pygments_lexer": "ipython3",
   "version": "3.5.3"
  }
 },
 "nbformat": 4,
 "nbformat_minor": 2
}
