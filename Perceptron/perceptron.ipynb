{
 "cells": [
  {
   "cell_type": "code",
   "execution_count": 1,
   "metadata": {
    "collapsed": true
   },
   "outputs": [],
   "source": [
    "import pandas as pd\n",
    "import numpy as np\n",
    "import matplotlib.pyplot as plt\n",
    "from mpl_toolkits.mplot3d import Axes3D\n",
    "%matplotlib inline"
   ]
  },
  {
   "cell_type": "code",
   "execution_count": null,
   "metadata": {
    "collapsed": true
   },
   "outputs": [],
   "source": [
    "def scatter_plot(data, label, title, w=[]):\n",
    "    cat1_x, cat1_y = [], []\n",
    "    cat2_x, cat2_y = [], []\n",
    "    \n",
    "    for i, feature in enumerate(data):\n",
    "        if label[i] == 0:\n",
    "            cat1_x.append(feature[0])\n",
    "            cat1_y.append(feature[1])\n",
    "        else:\n",
    "            cat2_x.append(feature[0])\n",
    "            cat2_y.append(feature[1])\n",
    "    \n",
    "    #plt.scatter(cat0_x, cat0_y, c='r')\n",
    "    plt.scatter(cat1_x, cat1_y, c='r', marker='D', label='class 0')\n",
    "    plt.scatter(cat2_x, cat2_y, c='b', marker='^', label='class 1 and 2')\n",
    "    if w != []:\n",
    "        line_x = np.linspace(4, 8, 100)\n",
    "        line_y = -(w[0] * line_x + w[2]) / w[1]\n",
    "        plt.plot(line_x, line_y, 'k', label='decision boundary')\n",
    "    plt.legend()\n",
    "    plt.grid()\n",
    "    plt.title(title)"
   ]
  },
  {
   "cell_type": "code",
   "execution_count": 2,
   "metadata": {
    "collapsed": true
   },
   "outputs": [],
   "source": [
    "cov_mat = [[0.09, 0.08], [0.08, 0.09]]\n",
    "\n",
    "def data_generation():\n",
    "    '''\n",
    "    Generate two groups of data based on 2D normal distribution\n",
    "    \n",
    "    Returns\n",
    "    -------\n",
    "    X: data as features for training\n",
    "    y: labels has value 0 or 1\n",
    "    '''\n",
    "    n, dim = 100, 2\n",
    "    pos = np.random.multivariate_normal(mean=[1, 1], cov=cov_mat, size=n)\n",
    "    neg = np.random.multivariate_normal(mean=[1.5, 0.5], cov=cov_mat, size=n)\n",
    "    X = np.r_[pos, neg]\n",
    "    y = np.hstack((np.zeros(n), np.ones(n))).astype(np.int)\n",
    "    print(y.shape)\n",
    "    return X, y\n",
    "\n",
    "class Perceptron(object):\n",
    "    \n",
    "    def __init__(self, learning_rate, epoch):\n",
    "        self.learning_rate = learning_rate\n",
    "        self.max_iteration = epoch\n",
    "        \n",
    "    # WRONG implementation  \n",
    "    def train(self, features, labels):\n",
    "        '''\n",
    "        The weight matrix is initailized here\n",
    "        as its shape depends on dimension of features\n",
    "        '''\n",
    "        self.w = np.random.randn(features[0].shape[0] + 1)\n",
    "        #self.w = np.zeros(features[0].shape[0] + 1)\n",
    "        \n",
    "        \n",
    "        bingo, iteration = 0, 0\n",
    "        \n",
    "        while iteration < self.max_iteration:\n",
    "            index = np.random.randint(0, labels.shape[0] - 1)  # generate random index to shuffle the training set\n",
    "            x = np.hstack((features[index], np.ones(1)))\n",
    "            y = 2 * labels[index] - 1\n",
    "            wx = sum(self.w * x)\n",
    "            \n",
    "            if wx * y <= 0:\n",
    "                for i in range(self.w.shape[0]):\n",
    "                    self.w += self.learning_rate * (y * x [i])\n",
    "\n",
    "            iteration += 1\n",
    "        print(\"Iteration: \", iteration)\n",
    "    \n",
    "    def train_all(self, features, labels):\n",
    "        \n",
    "        self.w = np.random.randn(features[0].shape[0] + 1) # initialize weight matrix w with bias b\n",
    "        \n",
    "        for epoch in range(self.max_iteration):\n",
    "            bingo = 0\n",
    "            for i in range(len(features)):\n",
    "                x = np.hstack((features[i], np.ones(1)))\n",
    "                y = 2 * labels[i] - 1\n",
    "                wx = sum(self.w * x)       # calculate wX_i + b\n",
    "                \n",
    "                if wx * y > 0:\n",
    "                    bingo += 1\n",
    "                else:\n",
    "                    self.w += self.learning_rate * (y * x)\n",
    "            print(\"Epoch {}, Bingo {}\".format(epoch+1, bingo))\n",
    "    \n",
    "    def predict_one(self, x):\n",
    "        x = np.hstack((x, np.ones(1)))\n",
    "        return int( sum(self.w * x) >0 )\n",
    "        \n",
    "    def predict(self, features):\n",
    "        labels = []\n",
    "        for feature in features:\n",
    "            x = list(feature)\n",
    "            x.append(1)\n",
    "            labels.append(self.predict_one(x))\n",
    "        return labels\n",
    "\n",
    "\n",
    "\n",
    "class dual_Perceptron(object):\n",
    "    \n",
    "    def __init__(self, learning_rate, epoch):\n",
    "        self.learning_rate = learning_rate\n",
    "        self.max_iteration = epoch\n",
    "    \n",
    "    def dual_train(self, features, labels):\n",
    "        \n",
    "        self.alpha, self.b = np.zeros(features.shape[0]), 0\n",
    "        \n",
    "        gram = []\n",
    "        for i in range(len(features)):\n",
    "            temp = [np.dot(features[i], features[j]) for j in range(len(features))]\n",
    "            gram.append(temp)\n",
    "        \n",
    "        print(len(gram[0]))\n",
    "        \n",
    "        for epoch in range(self.max_iteration):\n",
    "            bingo = 0\n",
    "            for i in range(len(features)):\n",
    "                y_i = 2 * labels[i] - 1\n",
    "                cal = (np.sum(self.alpha * labels * gram[i]) + self.b) * y_i\n",
    "                if cal > 0:\n",
    "                    bingo += 1\n",
    "                else:\n",
    "                    self.alpha[i] += self.learning_rate\n",
    "                    self.b += + self.learning_rate * y_i\n",
    "            print(\"Epoch {}, Bingo {}\".format(epoch+1, bingo))\n",
    "    \n",
    "    def predict_one(self, x, features, labels):\n",
    "        temp_dot = np.array([np.dot(features[i], x) for i in range(len(features))])\n",
    "        return int(np.sum(self.alpha * labels * temp_dot) + self.b > 0)\n",
    "    \n",
    "    def predict(self, x):\n",
    "        labels = []\n",
    "        for feature in features:\n",
    "            labels.append(self.predict_one(feature))\n",
    "        return labels"
   ]
  },
  {
   "cell_type": "code",
   "execution_count": 3,
   "metadata": {
    "scrolled": true
   },
   "outputs": [
    {
     "name": "stdout",
     "output_type": "stream",
     "text": [
      "(200,)\n"
     ]
    }
   ],
   "source": [
    "X, y = data_generation()"
   ]
  },
  {
   "cell_type": "code",
   "execution_count": 4,
   "metadata": {
    "scrolled": false
   },
   "outputs": [
    {
     "name": "stdout",
     "output_type": "stream",
     "text": [
      "Epoch 1, Bingo 100\n",
      "Epoch 2, Bingo 100\n",
      "Epoch 3, Bingo 107\n",
      "Epoch 4, Bingo 129\n",
      "Epoch 5, Bingo 153\n",
      "Epoch 6, Bingo 169\n",
      "Epoch 7, Bingo 178\n",
      "Epoch 8, Bingo 184\n",
      "Epoch 9, Bingo 186\n",
      "Epoch 10, Bingo 189\n",
      "Epoch 11, Bingo 191\n",
      "Epoch 12, Bingo 191\n",
      "Epoch 13, Bingo 193\n",
      "Epoch 14, Bingo 193\n",
      "Epoch 15, Bingo 194\n",
      "Epoch 16, Bingo 195\n",
      "Epoch 17, Bingo 195\n",
      "Epoch 18, Bingo 195\n",
      "Epoch 19, Bingo 196\n",
      "Epoch 20, Bingo 195\n",
      "Epoch 21, Bingo 195\n",
      "Epoch 22, Bingo 195\n",
      "Epoch 23, Bingo 195\n",
      "Epoch 24, Bingo 196\n",
      "Epoch 25, Bingo 196\n",
      "Epoch 26, Bingo 196\n",
      "Epoch 27, Bingo 196\n",
      "Epoch 28, Bingo 196\n",
      "Epoch 29, Bingo 196\n",
      "Epoch 30, Bingo 196\n"
     ]
    }
   ],
   "source": [
    "p = Perceptron(0.0005, 30)\n",
    "p.train_all(X, y)"
   ]
  },
  {
   "cell_type": "code",
   "execution_count": 5,
   "metadata": {
    "scrolled": false
   },
   "outputs": [
    {
     "name": "stdout",
     "output_type": "stream",
     "text": [
      "[ 1.07585279 -0.73653357 -0.95010303]\n",
      "1\n"
     ]
    },
    {
     "data": {
      "image/png": "[encoded data removed]",
      "text/plain": [
       "<Figure size 432x288 with 1 Axes>"
      ]
     },
     "metadata": {},
     "output_type": "display_data"
    }
   ],
   "source": [
    "plt.scatter(X[y==0,0], X[y==0, 1], c = 'r', edgecolor='k', s=15, label='Negtive')\n",
    "plt.scatter(X[y==1,0], X[y==1, 1], c = 'b', edgecolor='k', s=15, label='Positive')\n",
    "plain_x1 = np.linspace(-0.1, 2.5, 100)\n",
    "plain_x2 = - (p.w[2] + p.w[0] * plain_x1) / p.w[1]\n",
    "plt.plot(plain_x1, plain_x2, 'k-')\n",
    "plt.legend()\n",
    "print(p.w)\n",
    "unknown = np.array([2.0, 0.5])\n",
    "print(p.predict_one(unknown))"
   ]
  },
  {
   "cell_type": "code",
   "execution_count": 6,
   "metadata": {
    "scrolled": false
   },
   "outputs": [
    {
     "name": "stdout",
     "output_type": "stream",
     "text": [
      "200\n",
      "Epoch 1, Bingo 198\n",
      "Epoch 2, Bingo 194\n",
      "Epoch 3, Bingo 188\n",
      "Epoch 4, Bingo 180\n",
      "Epoch 5, Bingo 174\n",
      "Epoch 6, Bingo 171\n",
      "Epoch 7, Bingo 169\n",
      "Epoch 8, Bingo 165\n",
      "Epoch 9, Bingo 164\n",
      "Epoch 10, Bingo 165\n",
      "Epoch 11, Bingo 165\n",
      "Epoch 12, Bingo 163\n",
      "Epoch 13, Bingo 163\n",
      "Epoch 14, Bingo 163\n",
      "Epoch 15, Bingo 163\n",
      "Epoch 16, Bingo 164\n",
      "Epoch 17, Bingo 164\n",
      "Epoch 18, Bingo 163\n",
      "Epoch 19, Bingo 162\n",
      "Epoch 20, Bingo 163\n",
      "Epoch 21, Bingo 163\n",
      "Epoch 22, Bingo 162\n",
      "Epoch 23, Bingo 162\n",
      "Epoch 24, Bingo 163\n",
      "Epoch 25, Bingo 163\n",
      "Epoch 26, Bingo 163\n",
      "Epoch 27, Bingo 163\n",
      "Epoch 28, Bingo 164\n",
      "Epoch 29, Bingo 164\n",
      "Epoch 30, Bingo 164\n",
      "Epoch 31, Bingo 165\n",
      "Epoch 32, Bingo 164\n",
      "Epoch 33, Bingo 165\n",
      "Epoch 34, Bingo 165\n",
      "Epoch 35, Bingo 164\n",
      "Epoch 36, Bingo 165\n",
      "Epoch 37, Bingo 166\n",
      "Epoch 38, Bingo 166\n",
      "Epoch 39, Bingo 166\n",
      "Epoch 40, Bingo 167\n",
      "Epoch 41, Bingo 168\n",
      "Epoch 42, Bingo 167\n",
      "Epoch 43, Bingo 168\n",
      "Epoch 44, Bingo 168\n",
      "Epoch 45, Bingo 168\n",
      "Epoch 46, Bingo 168\n",
      "Epoch 47, Bingo 169\n",
      "Epoch 48, Bingo 170\n",
      "Epoch 49, Bingo 169\n",
      "Epoch 50, Bingo 170\n",
      "Epoch 51, Bingo 169\n",
      "Epoch 52, Bingo 170\n",
      "Epoch 53, Bingo 170\n",
      "Epoch 54, Bingo 169\n",
      "Epoch 55, Bingo 170\n",
      "Epoch 56, Bingo 170\n",
      "Epoch 57, Bingo 170\n",
      "Epoch 58, Bingo 170\n",
      "Epoch 59, Bingo 169\n",
      "Epoch 60, Bingo 170\n"
     ]
    },
    {
     "data": {
      "text/plain": [
       "' WTF!? why the correction prediction become less and less '"
      ]
     },
     "execution_count": 6,
     "metadata": {},
     "output_type": "execute_result"
    }
   ],
   "source": [
    "p1 = dual_Perceptron(0.001, 60)\n",
    "p1.dual_train(X,y)\n",
    "\"\"\" WTF!? why the correction prediction become less and less \"\"\""
   ]
  },
  {
   "cell_type": "code",
   "execution_count": 25,
   "metadata": {},
   "outputs": [
    {
     "data": {
      "text/plain": [
       "0"
      ]
     },
     "execution_count": 25,
     "metadata": {},
     "output_type": "execute_result"
    }
   ],
   "source": [
    "unknown = np.array([1.0, 0.0])\n",
    "p1.predict_one(unknown, X, y)"
   ]
  }
 ],
 "metadata": {
  "kernelspec": {
   "display_name": "Python 3",
   "language": "python",
   "name": "python3"
  },
  "language_info": {
   "codemirror_mode": {
    "name": "ipython",
    "version": 3
   },
   "file_extension": ".py",
   "mimetype": "text/x-python",
   "name": "python",
   "nbconvert_exporter": "python",
   "pygments_lexer": "ipython3",
   "version": "3.5.3"
  }
 },
 "nbformat": 4,
 "nbformat_minor": 2
}
