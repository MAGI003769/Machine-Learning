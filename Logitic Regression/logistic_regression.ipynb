{
 "cells": [
  {
   "cell_type": "code",
   "execution_count": 1,
   "metadata": {
    "collapsed": true
   },
   "outputs": [],
   "source": [
    "import numpy as np\n",
    "import matplotlib.pyplot as plt\n",
    "from sklearn import datasets\n",
    "\n",
    "%matplotlib inline"
   ]
  },
  {
   "cell_type": "code",
   "execution_count": 59,
   "metadata": {
    "collapsed": true
   },
   "outputs": [],
   "source": [
    "def scatter_plot(data, label, title, w=[]):\n",
    "    cat1_x, cat1_y = [], []\n",
    "    cat2_x, cat2_y = [], []\n",
    "    \n",
    "    for i, feature in enumerate(data):\n",
    "        if label[i] == 0:\n",
    "            cat1_x.append(feature[0])\n",
    "            cat1_y.append(feature[1])\n",
    "        else:\n",
    "            cat2_x.append(feature[0])\n",
    "            cat2_y.append(feature[1])\n",
    "    \n",
    "    #plt.scatter(cat0_x, cat0_y, c='r')\n",
    "    plt.scatter(cat1_x, cat1_y, c='r', marker='D', label='class 0')\n",
    "    plt.scatter(cat2_x, cat2_y, c='b', marker='^', label='class 1 and 2')\n",
    "    if w != []:\n",
    "        line_x = np.linspace(4, 8, 100)\n",
    "        line_y = -(w[0] * line_x + w[2]) / w[1]\n",
    "        plt.plot(line_x, line_y, 'k', label='decision boundary')\n",
    "    plt.legend()\n",
    "    plt.grid()\n",
    "    plt.title(title)"
   ]
  },
  {
   "cell_type": "code",
   "execution_count": 60,
   "metadata": {},
   "outputs": [
    {
     "name": "stdout",
     "output_type": "stream",
     "text": [
      "150\n"
     ]
    },
    {
     "data": {
      "image/png": "[encoded data removed]",
      "text/plain": [
       "<Figure size 432x288 with 1 Axes>"
      ]
     },
     "metadata": {},
     "output_type": "display_data"
    }
   ],
   "source": [
    "# Load iris dataset for use\n",
    "# The class '1' and '2' are non-linearly separable classes\n",
    "iris = datasets.load_iris()\n",
    "X = iris.data[:, :2]\n",
    "y = (iris.target != 0) * 1\n",
    "scatter_plot(X, y, 'Truncated Iris Data')"
   ]
  },
  {
   "cell_type": "code",
   "execution_count": 38,
   "metadata": {
    "collapsed": true
   },
   "outputs": [],
   "source": [
    "class LogisticRegression(object):\n",
    "    def __init__(self, lr=0.1, num_iter=100000, add_bias=True, verbose=True):\n",
    "        self.lr = lr\n",
    "        self.num_iter = num_iter\n",
    "        self.add_bias = add_bias\n",
    "        self.verbose= verbose\n",
    "    \n",
    "    def __add_constant(self, X):\n",
    "        b = np.ones((X.shape[0], 1))\n",
    "        return np.concatenate((X, b), axis=1)\n",
    "    \n",
    "    def __sigmoid(self, z):\n",
    "        return 1 / (1 + np.exp(-z))\n",
    "    \n",
    "    def __loss(self, h, y):\n",
    "        return (- y * np.log(h) - (1-y) * np.log(1-h)).mean()\n",
    "    \n",
    "    def fit(self, X, y):\n",
    "        # add constant term to features\n",
    "        if self.add_bias:\n",
    "            X = self.__add_constant(X)\n",
    "        \n",
    "        # parameters initialization\n",
    "        self.theta = np.zeros(X.shape[1])\n",
    "        \n",
    "        # iterations to update parameter\n",
    "        for i in range(self.num_iter):\n",
    "            z = np.dot(X, self.theta)\n",
    "            h = self.__sigmoid(z)\n",
    "            gradient = np.dot(X.T, (h - y)) / y.size\n",
    "            self.theta -= self.lr * gradient\n",
    "            \n",
    "            if self.verbose and i % 10000 == 0:\n",
    "                z = np.dot(X, self.theta)\n",
    "                h = self.__sigmoid(z)\n",
    "                print('Loss: {} \\t'.format(self.__loss(h, y)))\n",
    "    \n",
    "    def predict_prob(self, X):\n",
    "        if self.add_bias:\n",
    "            X = self.__add_constant(X)\n",
    "        return self.__sigmoid(np.dot(X, self.theta))\n",
    "    \n",
    "    def predict(self, X, thresh):\n",
    "        return self.predict_prob(X) >= thresh"
   ]
  },
  {
   "cell_type": "code",
   "execution_count": 39,
   "metadata": {},
   "outputs": [
    {
     "name": "stdout",
     "output_type": "stream",
     "text": [
      "Loss: 0.6106419114654529 \t\n",
      "Loss: 0.03445284596677912 \t\n",
      "Loss: 0.02882795048125154 \t\n",
      "Loss: 0.025732610280109966 \t\n",
      "Loss: 0.023408681770059423 \t\n",
      "Loss: 0.021498579861162243 \t\n",
      "Loss: 0.01987785226325258 \t\n",
      "Loss: 0.018484240100021452 \t\n",
      "Loss: 0.017277038827469893 \t\n",
      "Loss: 0.016225243738973754 \t\n",
      "Loss: 0.015303683492572683 \t\n",
      "Loss: 0.014491540946675426 \t\n",
      "Loss: 0.013771574805221605 \t\n",
      "Loss: 0.013129544178512899 \t\n",
      "Loss: 0.012553711220013409 \t\n",
      "Loss: 0.012034402808820274 \t\n",
      "Loss: 0.011563633144406966 \t\n",
      "Loss: 0.011134787467491997 \t\n",
      "Loss: 0.01074236250750362 \t\n",
      "Loss: 0.010381756421228587 \t\n",
      "Loss: 0.010049100144750604 \t\n",
      "Loss: 0.009741122485536843 \t\n",
      "Loss: 0.009455042259083562 \t\n",
      "Loss: 0.00918848190555548 \t\n",
      "Loss: 0.008939398093487198 \t\n",
      "Loss: 0.008706025743869918 \t\n",
      "Loss: 0.008486832669767219 \t\n",
      "Loss: 0.00828048263558777 \t\n",
      "Loss: 0.00808580511900032 \t\n",
      "Loss: 0.007901770431605018 \t\n",
      "Wall time: 4.91 s\n"
     ]
    }
   ],
   "source": [
    "model = LogisticRegression(lr=0.1, num_iter=300000)\n",
    "%time model.fit(X, y)"
   ]
  },
  {
   "cell_type": "code",
   "execution_count": 40,
   "metadata": {},
   "outputs": [
    {
     "name": "stdout",
     "output_type": "stream",
     "text": [
      "Accuracy: 1.0\n"
     ]
    }
   ],
   "source": [
    "preds = model.predict(X, 0.5)\n",
    "print('Accuracy: {}'.format((preds == y).mean()))"
   ]
  },
  {
   "cell_type": "code",
   "execution_count": 61,
   "metadata": {
    "scrolled": true
   },
   "outputs": [
    {
     "name": "stderr",
     "output_type": "stream",
     "text": [
      "c:\\python\\python35\\lib\\site-packages\\ipykernel_launcher.py:16: DeprecationWarning: elementwise != comparison failed; this will raise an error in the future.\n",
      "  app.launch_new_instance()\n"
     ]
    },
    {
     "data": {
      "image/png": "[encoded data removed]",
      "text/plain": [
       "<Figure size 432x288 with 1 Axes>"
      ]
     },
     "metadata": {},
     "output_type": "display_data"
    }
   ],
   "source": [
    "scatter_plot(X, y, 'Truncated Iris Data', w=model.theta)"
   ]
  },
  {
   "cell_type": "code",
   "execution_count": null,
   "metadata": {
    "collapsed": true
   },
   "outputs": [],
   "source": []
  }
 ],
 "metadata": {
  "kernelspec": {
   "display_name": "Python 3",
   "language": "python",
   "name": "python3"
  },
  "language_info": {
   "codemirror_mode": {
    "name": "ipython",
    "version": 3
   },
   "file_extension": ".py",
   "mimetype": "text/x-python",
   "name": "python",
   "nbconvert_exporter": "python",
   "pygments_lexer": "ipython3",
   "version": "3.5.3"
  }
 },
 "nbformat": 4,
 "nbformat_minor": 2
}
