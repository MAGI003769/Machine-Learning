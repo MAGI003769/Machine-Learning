{
 "cells": [
  {
   "cell_type": "code",
   "execution_count": 1,
   "metadata": {},
   "outputs": [
    {
     "name": "stderr",
     "output_type": "stream",
     "text": [
      "c:\\python\\python35\\lib\\site-packages\\sklearn\\cross_validation.py:41: DeprecationWarning: This module was deprecated in version 0.18 in favor of the model_selection module into which all the refactored classes and functions are moved. Also note that the interface of the new CV iterators are different from that of this module. This module will be removed in 0.20.\n",
      "  \"This module will be removed in 0.20.\", DeprecationWarning)\n"
     ]
    }
   ],
   "source": [
    "import numpy as np\n",
    "import matplotlib.pyplot as plt\n",
    "from sklearn import datasets\n",
    "from sklearn.cross_validation import train_test_split\n",
    "\n",
    "%matplotlib inline"
   ]
  },
  {
   "cell_type": "code",
   "execution_count": 2,
   "metadata": {
    "collapsed": true
   },
   "outputs": [],
   "source": [
    "def scatter_plot(data, label, title, w=[]):\n",
    "    cat1_x, cat1_y = [], []\n",
    "    cat2_x, cat2_y = [], []\n",
    "    \n",
    "    for i, feature in enumerate(data):\n",
    "        if label[i] == -1:\n",
    "            cat1_x.append(feature[0])\n",
    "            cat1_y.append(feature[1])\n",
    "        else:\n",
    "            cat2_x.append(feature[0])\n",
    "            cat2_y.append(feature[1])\n",
    "    \n",
    "    #plt.scatter(cat0_x, cat0_y, c='r')\n",
    "    plt.scatter(cat1_x, cat1_y, c='r', marker='D', label='class 0')\n",
    "    plt.scatter(cat2_x, cat2_y, c='b', marker='^', label='class 1 and 2')\n",
    "    if w != []:\n",
    "        line_x = np.linspace(4, 8, 100)\n",
    "        line_y = -(w[0] * line_x + w[2]) / w[1]\n",
    "        plt.plot(line_x, line_y, 'k', label='decision boundary')\n",
    "    plt.legend()\n",
    "    plt.grid()\n",
    "    plt.title(title)"
   ]
  },
  {
   "cell_type": "code",
   "execution_count": 60,
   "metadata": {},
   "outputs": [
    {
     "data": {
      "image/png": "[encoded data removed]",
      "text/plain": [
       "<Figure size 432x288 with 1 Axes>"
      ]
     },
     "metadata": {},
     "output_type": "display_data"
    }
   ],
   "source": [
    "# Load iris dataset for use\n",
    "# The class '1' and '2' are non-linearly separable classes\n",
    "iris = datasets.load_iris()\n",
    "X = iris.data[:, :2]\n",
    "y = (iris.target != 0) * 1\n",
    "# convert all labels into +1 or -1\n",
    "y = y * 2 - 1\n",
    "scatter_plot(X, y, 'Truncated Iris Data')"
   ]
  },
  {
   "cell_type": "code",
   "execution_count": 61,
   "metadata": {},
   "outputs": [],
   "source": [
    "X_train, X_test, y_train, y_test = train_test_split(X, y, test_size=0.25)"
   ]
  },
  {
   "cell_type": "code",
   "execution_count": 62,
   "metadata": {},
   "outputs": [],
   "source": [
    "class my_SVM(object):\n",
    "    \n",
    "    def __init__(self, max_iter=100, kernel='linear'):\n",
    "        self.max_iter = max_iter\n",
    "        self._kernel = kernel\n",
    "    \n",
    "    def init_args(self, features, labels):\n",
    "        self.X = features\n",
    "        self.y = labels\n",
    "        self.num_samples = features.shape[0]\n",
    "        self.num_dims = features.shape[1]\n",
    "        self.b = 0.0\n",
    "        \n",
    "        # Paramters used in SMO\n",
    "        self.alpha = np.ones(self.num_samples)\n",
    "        self.E = [self._E(i) for i in range(self.num_samples)]\n",
    "        self.C = 1.0\n",
    "        \n",
    "    def _E(self, i):\n",
    "        return self._g(i) - self.y[i]\n",
    "    \n",
    "    def _g(self, i):\n",
    "        r = self.b\n",
    "        for j in range(self.num_samples):\n",
    "            r += self.alpha[j] * self.y[j] * self.kernel_cal(self.X[i], self.X[j])\n",
    "        return r\n",
    "    \n",
    "    def kernel_cal(self, x1, x2):\n",
    "        if self._kernel == 'linear':\n",
    "            return np.dot(x1, x2)\n",
    "        elif self._kernel == 'poly':\n",
    "            return (np.dot(x1, x2) + 1) ** 2\n",
    "        else:\n",
    "            raise NotImplementedError(\"This kind of kernel is not support yet!\")\n",
    "    \n",
    "    def _KKT(self, i):\n",
    "        y_g = self._g(i) * self.y[i]\n",
    "        if self.alpha[i] == 0:\n",
    "            return y_g >= 1\n",
    "        elif self.alpha[i] >= self.C:\n",
    "            return y_g <= 1\n",
    "        else:\n",
    "            return y_g <= 1\n",
    "        \n",
    "    \n",
    "    def _select_alpha(self):\n",
    "        index_list, non_satisfy = [], []\n",
    "        # indeces of alpha_i that satisfy the constrain\n",
    "        for i in range(self.num_samples):\n",
    "            if 0 < self.alpha[i] < self.C:\n",
    "                index_list.append(i)\n",
    "            else:\n",
    "                non_satisfy.append(i)\n",
    "        index_list.extend(non_satisfy)\n",
    "        for i in index_list:\n",
    "            if self._KKT(i):\n",
    "                continue\n",
    "            E1 = self.E[i]\n",
    "            if E1 >= 0:\n",
    "                j = min(range(self.num_samples), key=lambda x: self.E[x])\n",
    "            else:\n",
    "                j = max(range(self.num_samples), key=lambda x: self.E[x])\n",
    "            return i, j\n",
    "    \n",
    "    def _compare(self, _alpha, L, H):\n",
    "        if _alpha > H:\n",
    "            return H\n",
    "        elif _alpha < L:\n",
    "            return L\n",
    "        else:\n",
    "            return _alpha\n",
    "    \n",
    "    def fit(self, features, labels):\n",
    "        ''' Method to fit model with given data '''\n",
    "        \n",
    "        # initialize arguments of model\n",
    "        self.init_args(features, labels)\n",
    "        \n",
    "        # training iteration, procedures of SMO algorithm\n",
    "        for t in range(self.max_iter):\n",
    "            i1, i2 = self._select_alpha()\n",
    "            \n",
    "            # define boundary of alpha_2\n",
    "            if self.y[i1] == self.y[i2]:\n",
    "                L = max(0, self.alpha[i2] + self.alpha[i1] - self.C)\n",
    "                H = min(self.C, self.alpha[i2] + self.alpha[i1])\n",
    "            else:\n",
    "                L = max(0, self.alpha[i2] - self.alpha[i1])\n",
    "                H = min(self.C, self.C + self.alpha[i2] - self.alpha[i1])\n",
    "            \n",
    "            # calculate error refers to ground truth\n",
    "            E1 = self._E(i1)\n",
    "            E2 = self._E(i2)\n",
    "            \n",
    "            # eta = K_11 + K_22 - 2*K_12\n",
    "            eta = self.kernel_cal(X[i1], X[i1]) + self.kernel_cal(X[i2], X[i2]) - 2 * self.kernel_cal(X[i1], X[i2])\n",
    "            if eta <= 0:\n",
    "                continue\n",
    "            \n",
    "            # calculate alpha_2\n",
    "            alpha2_new_unc = self.alpha[i2] + self.y[i2] * (E1 - E1) / eta\n",
    "            alpha2_new = self._compare(alpha2_new_unc, L, H)\n",
    "            \n",
    "            # calculate alpha_1\n",
    "            alpha1_new = self.alpha[i1] + self.y[i1]*self.y[i2]*(self.alpha[i2] - alpha2_new)\n",
    "            \n",
    "            # calculate b\n",
    "            b1_new = - E1 - self.y[i1] * self.kernel_cal(self.X[i1], self.X[i1])* (alpha1_new - self.alpha[i1]) \\\n",
    "            - self.y[i2] * self.kernel_cal(self.X[i2], self.X[i1])* (alpha2_new - self.alpha[i2]) + self.b\n",
    "            \n",
    "            b2_new = - E2 - self.y[i1] * self.kernel_cal(self.X[i1], self.X[i2])* (alpha1_new - self.alpha[i1]) \\\n",
    "            - self.y[i2] * self.kernel_cal(self.X[i2], self.X[i2])* (alpha2_new - self.alpha[i2]) + self.b\n",
    "            \n",
    "            if 0 < alpha1_new < self.C:\n",
    "                b_new = b1_new\n",
    "            elif 0 < alpha2_new < self.C:\n",
    "                b_new = b2_new\n",
    "            else:\n",
    "                b_new = (b1_new + b2_new) / 2\n",
    "            \n",
    "            # update parameters\n",
    "            self.alpha[i1] = alpha1_new\n",
    "            self.alpha[i2] = alpha2_new\n",
    "            self.b = b_new\n",
    "            # re-calculate (update) error\n",
    "            self.E[i1] = self._E(i1)\n",
    "            self.E[i2] = self._E(i2)\n",
    "            print('Traning: {} / {} iteration'.format(t+1, self.max_iter), end='\\r')\n",
    "        print('\\nTraining Done !')\n",
    "        return\n",
    "    \n",
    "    def _predict_one(self, data):\n",
    "        r = self.b\n",
    "        for i in range(self.num_samples):\n",
    "            r += self.alpha[i] * self.y[i] * self.kernel_cal(data, self.X[i])\n",
    "        return 1 if r > 0 else -1\n",
    "    \n",
    "    def predict(self, test_X):\n",
    "        res = []\n",
    "        for sample in test_X:\n",
    "            tmp = self._predict_one(sample)\n",
    "            res.append(tmp)\n",
    "        return res"
   ]
  },
  {
   "cell_type": "code",
   "execution_count": 63,
   "metadata": {},
   "outputs": [
    {
     "name": "stdout",
     "output_type": "stream",
     "text": [
      "Traning: 200 / 200 iteration\n",
      "Training Done !\n"
     ]
    }
   ],
   "source": [
    "svm = my_SVM(max_iter=200)\n",
    "svm.fit(X_train, y_train)"
   ]
  },
  {
   "cell_type": "code",
   "execution_count": 64,
   "metadata": {},
   "outputs": [
    {
     "name": "stdout",
     "output_type": "stream",
     "text": [
      "Accuracy: 0.7368421052631579\n"
     ]
    }
   ],
   "source": [
    "preds = svm.predict(X_test)\n",
    "print('Accuracy: {}'.format((preds == y_test).mean()))"
   ]
  },
  {
   "cell_type": "code",
   "execution_count": null,
   "metadata": {
    "collapsed": true
   },
   "outputs": [],
   "source": []
  }
 ],
 "metadata": {
  "kernelspec": {
   "display_name": "Python 3",
   "language": "python",
   "name": "python3"
  },
  "language_info": {
   "codemirror_mode": {
    "name": "ipython",
    "version": 3
   },
   "file_extension": ".py",
   "mimetype": "text/x-python",
   "name": "python",
   "nbconvert_exporter": "python",
   "pygments_lexer": "ipython3",
   "version": "3.5.3"
  }
 },
 "nbformat": 4,
 "nbformat_minor": 2
}
